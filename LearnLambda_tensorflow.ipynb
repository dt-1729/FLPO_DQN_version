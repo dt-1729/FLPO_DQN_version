{
 "cells": [
  {
   "attachments": {},
   "cell_type": "markdown",
   "metadata": {},
   "source": [
    "Dhananjay Tiwari,\n",
    "\n",
    "PhD Student, Mechanical Science and Engineering,\n",
    "\n",
    "University of Illinois Urbana Champaign,\n",
    "\n",
    "Coordinated Science Laboratory, 348"
   ]
  },
  {
   "attachments": {},
   "cell_type": "markdown",
   "metadata": {},
   "source": [
    "### Goal: Learn a neural network for the following function \n",
    "\n",
    "$\\Lambda:\\mathcal{S}\\times \\mathcal{A} \\rightarrow \\mathbb R$\n",
    "\n",
    "where $\\mathcal{S}$ is a state-space, $\\mathcal{A}$ is an action-space\n",
    "\n",
    "$\\mathcal{S} = \\{s_1, s_2, s_3, \\dots, s_N\\}$ and \n",
    "\n",
    "$\\mathcal{A} = \\{a_1, a_2, a_3, \\dots, a_M\\}$\n",
    "\n",
    "Suppose each state and action has an associated parameter given by $\\{\\zeta_s, s\\in\\mathcal S\\}$ and $\\{\\eta_a, a \\in \\mathcal A\\}$ respectively.\n",
    "\n",
    "Let's aim to learn the dummy function $\\Lambda(s,a) = \\sqrt{\\zeta_s^2+\\eta_a^2}$\n"
   ]
  },
  {
   "attachments": {},
   "cell_type": "markdown",
   "metadata": {},
   "source": [
    "### Import Dependencies\n",
    "In this code, we use keras module adapted within tensorflow to build and train neural networks"
   ]
  },
  {
   "cell_type": "code",
   "execution_count": 191,
   "metadata": {},
   "outputs": [],
   "source": [
    "import numpy as np\n",
    "from tensorflow import keras\n",
    "from itertools import chain"
   ]
  },
  {
   "attachments": {},
   "cell_type": "markdown",
   "metadata": {},
   "source": [
    "### Define the function that needs to be approximated as a neural network"
   ]
  },
  {
   "cell_type": "code",
   "execution_count": 192,
   "metadata": {},
   "outputs": [
    {
     "name": "stdout",
     "output_type": "stream",
     "text": [
      "M =  300\n",
      "N =  100\n",
      "state_space =  [(0,), (1,), (2,), (3,), (4,), (5,), (6,), (7,), (8,), (9,), (10,), (11,), (12,), (13,), (14,), (15,), (16,), (17,), (18,), (19,), (20,), (21,), (22,), (23,), (24,), (25,), (26,), (27,), (28,), (29,), (30,), (31,), (32,), (33,), (34,), (35,), (36,), (37,), (38,), (39,), (40,), (41,), (42,), (43,), (44,), (45,), (46,), (47,), (48,), (49,), (50,), (51,), (52,), (53,), (54,), (55,), (56,), (57,), (58,), (59,), (60,), (61,), (62,), (63,), (64,), (65,), (66,), (67,), (68,), (69,), (70,), (71,), (72,), (73,), (74,), (75,), (76,), (77,), (78,), (79,), (80,), (81,), (82,), (83,), (84,), (85,), (86,), (87,), (88,), (89,), (90,), (91,), (92,), (93,), (94,), (95,), (96,), (97,), (98,), (99,), (100,), (101,), (102,), (103,), (104,), (105,), (106,), (107,), (108,), (109,), (110,), (111,), (112,), (113,), (114,), (115,), (116,), (117,), (118,), (119,), (120,), (121,), (122,), (123,), (124,), (125,), (126,), (127,), (128,), (129,), (130,), (131,), (132,), (133,), (134,), (135,), (136,), (137,), (138,), (139,), (140,), (141,), (142,), (143,), (144,), (145,), (146,), (147,), (148,), (149,), (150,), (151,), (152,), (153,), (154,), (155,), (156,), (157,), (158,), (159,), (160,), (161,), (162,), (163,), (164,), (165,), (166,), (167,), (168,), (169,), (170,), (171,), (172,), (173,), (174,), (175,), (176,), (177,), (178,), (179,), (180,), (181,), (182,), (183,), (184,), (185,), (186,), (187,), (188,), (189,), (190,), (191,), (192,), (193,), (194,), (195,), (196,), (197,), (198,), (199,), (200,), (201,), (202,), (203,), (204,), (205,), (206,), (207,), (208,), (209,), (210,), (211,), (212,), (213,), (214,), (215,), (216,), (217,), (218,), (219,), (220,), (221,), (222,), (223,), (224,), (225,), (226,), (227,), (228,), (229,), (230,), (231,), (232,), (233,), (234,), (235,), (236,), (237,), (238,), (239,), (240,), (241,), (242,), (243,), (244,), (245,), (246,), (247,), (248,), (249,), (250,), (251,), (252,), (253,), (254,), (255,), (256,), (257,), (258,), (259,), (260,), (261,), (262,), (263,), (264,), (265,), (266,), (267,), (268,), (269,), (270,), (271,), (272,), (273,), (274,), (275,), (276,), (277,), (278,), (279,), (280,), (281,), (282,), (283,), (284,), (285,), (286,), (287,), (288,), (289,), (290,), (291,), (292,), (293,), (294,), (295,), (296,), (297,), (298,), (299,)]\n",
      "action_space =  [(0,), (1,), (2,), (3,), (4,), (5,), (6,), (7,), (8,), (9,), (10,), (11,), (12,), (13,), (14,), (15,), (16,), (17,), (18,), (19,), (20,), (21,), (22,), (23,), (24,), (25,), (26,), (27,), (28,), (29,), (30,), (31,), (32,), (33,), (34,), (35,), (36,), (37,), (38,), (39,), (40,), (41,), (42,), (43,), (44,), (45,), (46,), (47,), (48,), (49,), (50,), (51,), (52,), (53,), (54,), (55,), (56,), (57,), (58,), (59,), (60,), (61,), (62,), (63,), (64,), (65,), (66,), (67,), (68,), (69,), (70,), (71,), (72,), (73,), (74,), (75,), (76,), (77,), (78,), (79,), (80,), (81,), (82,), (83,), (84,), (85,), (86,), (87,), (88,), (89,), (90,), (91,), (92,), (93,), (94,), (95,), (96,), (97,), (98,), (99,)]\n",
      "state_params =  [  0   1   2   3   4   5   6   7   8   9  10  11  12  13  14  15  16  17\n",
      "  18  19  20  21  22  23  24  25  26  27  28  29  30  31  32  33  34  35\n",
      "  36  37  38  39  40  41  42  43  44  45  46  47  48  49  50  51  52  53\n",
      "  54  55  56  57  58  59  60  61  62  63  64  65  66  67  68  69  70  71\n",
      "  72  73  74  75  76  77  78  79  80  81  82  83  84  85  86  87  88  89\n",
      "  90  91  92  93  94  95  96  97  98  99 100 101 102 103 104 105 106 107\n",
      " 108 109 110 111 112 113 114 115 116 117 118 119 120 121 122 123 124 125\n",
      " 126 127 128 129 130 131 132 133 134 135 136 137 138 139 140 141 142 143\n",
      " 144 145 146 147 148 149 150 151 152 153 154 155 156 157 158 159 160 161\n",
      " 162 163 164 165 166 167 168 169 170 171 172 173 174 175 176 177 178 179\n",
      " 180 181 182 183 184 185 186 187 188 189 190 191 192 193 194 195 196 197\n",
      " 198 199 200 201 202 203 204 205 206 207 208 209 210 211 212 213 214 215\n",
      " 216 217 218 219 220 221 222 223 224 225 226 227 228 229 230 231 232 233\n",
      " 234 235 236 237 238 239 240 241 242 243 244 245 246 247 248 249 250 251\n",
      " 252 253 254 255 256 257 258 259 260 261 262 263 264 265 266 267 268 269\n",
      " 270 271 272 273 274 275 276 277 278 279 280 281 282 283 284 285 286 287\n",
      " 288 289 290 291 292 293 294 295 296 297 298 299]\n",
      "action_params =  [ 0  1  2  3  4  5  6  7  8  9 10 11 12 13 14 15 16 17 18 19 20 21 22 23\n",
      " 24 25 26 27 28 29 30 31 32 33 34 35 36 37 38 39 40 41 42 43 44 45 46 47\n",
      " 48 49 50 51 52 53 54 55 56 57 58 59 60 61 62 63 64 65 66 67 68 69 70 71\n",
      " 72 73 74 75 76 77 78 79 80 81 82 83 84 85 86 87 88 89 90 91 92 93 94 95\n",
      " 96 97 98 99]\n",
      "Lambda_shape =  (300, 100)\n",
      "Lambda(s,a) at s= (1,) a= (7,) = 7.0710678118654755\n",
      "sub state space =  [(235,), (228,), (10,), (204,), (116,), (223,), (93,), (60,), (121,), (4,)]\n",
      "sub action space =  [(48,), (36,), (67,), (32,), (73,)]\n",
      "Lambda_shape =  (10, 5)\n"
     ]
    }
   ],
   "source": [
    "# initialize the parameters, state-space, action-space and the Lambda function\n",
    "M = 300; N = 100\n",
    "state_space=[]; action_space=[]\n",
    "for i in range(M):\n",
    "    state_space.append((i,))\n",
    "for j in range(N):\n",
    "    action_space.append((j,))\n",
    "\n",
    "# initialize state-action parameters\n",
    "state_params = np.arange(len(state_space))\n",
    "action_params = np.arange(len(action_space))\n",
    "\n",
    "# display variables\n",
    "print('M = ', M)\n",
    "print('N = ', N)\n",
    "print('state_space = ', state_space)\n",
    "print('action_space = ', action_space)\n",
    "print('state_params = ', state_params)\n",
    "print('action_params = ', action_params)\n",
    "\n",
    "# define the Lambda function\n",
    "def Lambda(states,actions):\n",
    "    return np.sqrt(state_params[states]**2+np.squeeze(action_params[actions])**2)\n",
    "\n",
    "# test Lambda function for all the states\n",
    "LambdaValue = Lambda(state_space,action_space)\n",
    "print('Lambda_shape = ', np.shape(LambdaValue))\n",
    "s = (1,)\n",
    "a = (7,)\n",
    "print('Lambda(s,a) at s=',s,'a=',a, '=', LambdaValue[(*s,*a)])\n",
    "\n",
    "# test Lambda function for randomly selected states\n",
    "ID_sub_state_space0 = np.random.choice(a=np.arange(M), size=10, replace=False)\n",
    "ID_sub_action_space0 = np.random.choice(a=np.arange(N), size=5, replace=False)\n",
    "sub_state_space0 = [state_space[i] for i in ID_sub_state_space0]\n",
    "sub_action_space0 = [action_space[i] for i in ID_sub_action_space0]\n",
    "print('sub state space = ', sub_state_space0)\n",
    "print('sub action space = ', sub_action_space0)\n",
    "LambdaValue0 = Lambda(sub_state_space0, sub_action_space0)\n",
    "print('Lambda_shape = ', np.shape(LambdaValue0))\n"
   ]
  },
  {
   "attachments": {},
   "cell_type": "markdown",
   "metadata": {},
   "source": [
    "### Create input-output dataset using the function defined above"
   ]
  },
  {
   "cell_type": "code",
   "execution_count": 193,
   "metadata": {},
   "outputs": [
    {
     "name": "stdout",
     "output_type": "stream",
     "text": [
      "inputs =  [[ 29  63]\n",
      " [283  63]\n",
      " [ 49  63]\n",
      " ...\n",
      " [298  85]\n",
      " [ 13  85]\n",
      " [297  85]] \n",
      "shape =  (6000, 2) type =  <class 'numpy.ndarray'>\n",
      "output =  [ 69.35416354 289.92757716  79.81227976 ... 309.88546271  85.98837131\n",
      " 308.92393886] \n",
      "shape =  (6000,) type =  <class 'numpy.ndarray'>\n"
     ]
    }
   ],
   "source": [
    "\n",
    "ID_sub_state_space1 = np.random.choice(a=np.arange(M), size=100, replace=False)\n",
    "ID_sub_action_space1 = np.random.choice(a=np.arange(N), size=60, replace=False)\n",
    "sub_state_space1 = [state_space[i] for i in ID_sub_state_space1]\n",
    "sub_action_space1 = [action_space[i] for i in ID_sub_action_space1]\n",
    "S,A = np.meshgrid(list(chain(*sub_state_space1)),list(chain(*sub_action_space1)))\n",
    "\n",
    "inputs = np.vstack([S.ravel(), A.ravel()]).T\n",
    "outputs = np.array([Lambda(input[0],input[1]) for input in inputs])\n",
    "print('inputs = ', inputs, '\\nshape = ', np.shape(inputs), 'type = ', type(inputs))\n",
    "print('output = ', outputs, '\\nshape = ', np.shape(outputs), 'type = ', type(outputs))\n",
    "\n",
    "# training dataset\n",
    "inputs_train = inputs[0:-1000,:]\n",
    "outputs_train = outputs[0:-1000]\n",
    "\n",
    "# create test dataset\n",
    "inputs_test = inputs[-1000:,:]\n",
    "outputs_test = outputs[-1000:]\n",
    "\n",
    "# reserve some samples from training dataset for validation\n",
    "inputs_val = inputs_train[-1000:,:]\n",
    "outputs_val = outputs_train[-1000:]\n",
    "inputs_train = inputs_train[0:-1000,:]\n",
    "outputs_train = outputs_train[0:-1000]\n",
    "\n",
    "# print('inputs_train = ', inputs_train, '\\nshape = ', np.shape(inputs_train))\n",
    "# print('output_train = ', outputs_train, '\\nshape = ', np.shape(outputs_train))\n",
    "\n"
   ]
  },
  {
   "attachments": {},
   "cell_type": "markdown",
   "metadata": {},
   "source": [
    "### Initialize a Neural network below\n",
    "\n",
    "Input consists of 2 nodes corresponding to a state-action pair $(s,a)$\n",
    "\n",
    "Output consists of 1 node corresponding to the value $\\Lambda(s,a)$\n",
    "\n",
    "Loss function is Mean-Square Error $L(w,b) = \\frac{1}{P}\\sqrt{\\sum_{p=1}^P (\\hat{\\Lambda}(s_k,a_k,w,b)-\\Lambda(s_k,a_k))^2}$\n",
    "\n",
    "where $\\hat{\\Lambda}$ is the Neural Net approximation of $\\Lambda$, $(s_k,a_k)$ are state-action samples for training"
   ]
  },
  {
   "attachments": {},
   "cell_type": "markdown",
   "metadata": {},
   "source": [
    "Using Keras Sequential API to build and train the Neural Network"
   ]
  },
  {
   "cell_type": "code",
   "execution_count": 203,
   "metadata": {},
   "outputs": [
    {
     "data": {
      "text/html": [
       "<pre style=\"white-space:pre;overflow-x:auto;line-height:normal;font-family:Menlo,'DejaVu Sans Mono',consolas,'Courier New',monospace\"><span style=\"font-weight: bold\">Model: \"sequential_21\"</span>\n",
       "</pre>\n"
      ],
      "text/plain": [
       "\u001b[1mModel: \"sequential_21\"\u001b[0m\n"
      ]
     },
     "metadata": {},
     "output_type": "display_data"
    },
    {
     "data": {
      "text/html": [
       "<pre style=\"white-space:pre;overflow-x:auto;line-height:normal;font-family:Menlo,'DejaVu Sans Mono',consolas,'Courier New',monospace\">┏━━━━━━━━━━━━━━━━━━━━━━━━━━━━━━━━━┳━━━━━━━━━━━━━━━━━━━━━━━━┳━━━━━━━━━━━━━━━┓\n",
       "┃<span style=\"font-weight: bold\"> Layer (type)                    </span>┃<span style=\"font-weight: bold\"> Output Shape           </span>┃<span style=\"font-weight: bold\">       Param # </span>┃\n",
       "┡━━━━━━━━━━━━━━━━━━━━━━━━━━━━━━━━━╇━━━━━━━━━━━━━━━━━━━━━━━━╇━━━━━━━━━━━━━━━┩\n",
       "│ dense_63 (<span style=\"color: #0087ff; text-decoration-color: #0087ff\">Dense</span>)                │ (<span style=\"color: #00d7ff; text-decoration-color: #00d7ff\">None</span>, <span style=\"color: #00af00; text-decoration-color: #00af00\">5</span>)              │            <span style=\"color: #00af00; text-decoration-color: #00af00\">15</span> │\n",
       "├─────────────────────────────────┼────────────────────────┼───────────────┤\n",
       "│ dense_64 (<span style=\"color: #0087ff; text-decoration-color: #0087ff\">Dense</span>)                │ (<span style=\"color: #00d7ff; text-decoration-color: #00d7ff\">None</span>, <span style=\"color: #00af00; text-decoration-color: #00af00\">5</span>)              │            <span style=\"color: #00af00; text-decoration-color: #00af00\">30</span> │\n",
       "├─────────────────────────────────┼────────────────────────┼───────────────┤\n",
       "│ dense_65 (<span style=\"color: #0087ff; text-decoration-color: #0087ff\">Dense</span>)                │ (<span style=\"color: #00d7ff; text-decoration-color: #00d7ff\">None</span>, <span style=\"color: #00af00; text-decoration-color: #00af00\">1</span>)              │             <span style=\"color: #00af00; text-decoration-color: #00af00\">6</span> │\n",
       "└─────────────────────────────────┴────────────────────────┴───────────────┘\n",
       "</pre>\n"
      ],
      "text/plain": [
       "┏━━━━━━━━━━━━━━━━━━━━━━━━━━━━━━━━━┳━━━━━━━━━━━━━━━━━━━━━━━━┳━━━━━━━━━━━━━━━┓\n",
       "┃\u001b[1m \u001b[0m\u001b[1mLayer (type)                   \u001b[0m\u001b[1m \u001b[0m┃\u001b[1m \u001b[0m\u001b[1mOutput Shape          \u001b[0m\u001b[1m \u001b[0m┃\u001b[1m \u001b[0m\u001b[1m      Param #\u001b[0m\u001b[1m \u001b[0m┃\n",
       "┡━━━━━━━━━━━━━━━━━━━━━━━━━━━━━━━━━╇━━━━━━━━━━━━━━━━━━━━━━━━╇━━━━━━━━━━━━━━━┩\n",
       "│ dense_63 (\u001b[38;5;33mDense\u001b[0m)                │ (\u001b[38;5;45mNone\u001b[0m, \u001b[38;5;34m5\u001b[0m)              │            \u001b[38;5;34m15\u001b[0m │\n",
       "├─────────────────────────────────┼────────────────────────┼───────────────┤\n",
       "│ dense_64 (\u001b[38;5;33mDense\u001b[0m)                │ (\u001b[38;5;45mNone\u001b[0m, \u001b[38;5;34m5\u001b[0m)              │            \u001b[38;5;34m30\u001b[0m │\n",
       "├─────────────────────────────────┼────────────────────────┼───────────────┤\n",
       "│ dense_65 (\u001b[38;5;33mDense\u001b[0m)                │ (\u001b[38;5;45mNone\u001b[0m, \u001b[38;5;34m1\u001b[0m)              │             \u001b[38;5;34m6\u001b[0m │\n",
       "└─────────────────────────────────┴────────────────────────┴───────────────┘\n"
      ]
     },
     "metadata": {},
     "output_type": "display_data"
    },
    {
     "data": {
      "text/html": [
       "<pre style=\"white-space:pre;overflow-x:auto;line-height:normal;font-family:Menlo,'DejaVu Sans Mono',consolas,'Courier New',monospace\"><span style=\"font-weight: bold\"> Total params: </span><span style=\"color: #00af00; text-decoration-color: #00af00\">51</span> (204.00 B)\n",
       "</pre>\n"
      ],
      "text/plain": [
       "\u001b[1m Total params: \u001b[0m\u001b[38;5;34m51\u001b[0m (204.00 B)\n"
      ]
     },
     "metadata": {},
     "output_type": "display_data"
    },
    {
     "data": {
      "text/html": [
       "<pre style=\"white-space:pre;overflow-x:auto;line-height:normal;font-family:Menlo,'DejaVu Sans Mono',consolas,'Courier New',monospace\"><span style=\"font-weight: bold\"> Trainable params: </span><span style=\"color: #00af00; text-decoration-color: #00af00\">51</span> (204.00 B)\n",
       "</pre>\n"
      ],
      "text/plain": [
       "\u001b[1m Trainable params: \u001b[0m\u001b[38;5;34m51\u001b[0m (204.00 B)\n"
      ]
     },
     "metadata": {},
     "output_type": "display_data"
    },
    {
     "data": {
      "text/html": [
       "<pre style=\"white-space:pre;overflow-x:auto;line-height:normal;font-family:Menlo,'DejaVu Sans Mono',consolas,'Courier New',monospace\"><span style=\"font-weight: bold\"> Non-trainable params: </span><span style=\"color: #00af00; text-decoration-color: #00af00\">0</span> (0.00 B)\n",
       "</pre>\n"
      ],
      "text/plain": [
       "\u001b[1m Non-trainable params: \u001b[0m\u001b[38;5;34m0\u001b[0m (0.00 B)\n"
      ]
     },
     "metadata": {},
     "output_type": "display_data"
    }
   ],
   "source": [
    "# initialize the input (s,a) layer\n",
    "keras.Input(shape=(2,))\n",
    "# initialize the Sequential model\n",
    "model = keras.Sequential()\n",
    "# add the first layer with input shape equal to the input layer\n",
    "model.add(keras.layers.Dense(5,input_shape=(2,), activation='relu'))\n",
    "# add the second layer\n",
    "model.add(keras.layers.Dense(5, activation='relu'))\n",
    "# add the third (output) layer\n",
    "model.add(keras.layers.Dense(1)) \n",
    "\n",
    "model.summary()\n"
   ]
  },
  {
   "attachments": {},
   "cell_type": "markdown",
   "metadata": {},
   "source": [
    "Using Functional API to build and train the Neural Network"
   ]
  },
  {
   "cell_type": "code",
   "execution_count": 198,
   "metadata": {},
   "outputs": [
    {
     "data": {
      "text/html": [
       "<pre style=\"white-space:pre;overflow-x:auto;line-height:normal;font-family:Menlo,'DejaVu Sans Mono',consolas,'Courier New',monospace\"><span style=\"font-weight: bold\">Model: \"functional_86\"</span>\n",
       "</pre>\n"
      ],
      "text/plain": [
       "\u001b[1mModel: \"functional_86\"\u001b[0m\n"
      ]
     },
     "metadata": {},
     "output_type": "display_data"
    },
    {
     "data": {
      "text/html": [
       "<pre style=\"white-space:pre;overflow-x:auto;line-height:normal;font-family:Menlo,'DejaVu Sans Mono',consolas,'Courier New',monospace\">┏━━━━━━━━━━━━━━━━━━━━━━━━━━━━━━━━━┳━━━━━━━━━━━━━━━━━━━━━━━━┳━━━━━━━━━━━━━━━┓\n",
       "┃<span style=\"font-weight: bold\"> Layer (type)                    </span>┃<span style=\"font-weight: bold\"> Output Shape           </span>┃<span style=\"font-weight: bold\">       Param # </span>┃\n",
       "┡━━━━━━━━━━━━━━━━━━━━━━━━━━━━━━━━━╇━━━━━━━━━━━━━━━━━━━━━━━━╇━━━━━━━━━━━━━━━┩\n",
       "│ state_action_pair (<span style=\"color: #0087ff; text-decoration-color: #0087ff\">InputLayer</span>)  │ (<span style=\"color: #00d7ff; text-decoration-color: #00d7ff\">None</span>, <span style=\"color: #00af00; text-decoration-color: #00af00\">2</span>)              │             <span style=\"color: #00af00; text-decoration-color: #00af00\">0</span> │\n",
       "├─────────────────────────────────┼────────────────────────┼───────────────┤\n",
       "│ dense_1 (<span style=\"color: #0087ff; text-decoration-color: #0087ff\">Dense</span>)                 │ (<span style=\"color: #00d7ff; text-decoration-color: #00d7ff\">None</span>, <span style=\"color: #00af00; text-decoration-color: #00af00\">10</span>)             │            <span style=\"color: #00af00; text-decoration-color: #00af00\">30</span> │\n",
       "├─────────────────────────────────┼────────────────────────┼───────────────┤\n",
       "│ dense_2 (<span style=\"color: #0087ff; text-decoration-color: #0087ff\">Dense</span>)                 │ (<span style=\"color: #00d7ff; text-decoration-color: #00d7ff\">None</span>, <span style=\"color: #00af00; text-decoration-color: #00af00\">10</span>)             │           <span style=\"color: #00af00; text-decoration-color: #00af00\">110</span> │\n",
       "├─────────────────────────────────┼────────────────────────┼───────────────┤\n",
       "│ predictions (<span style=\"color: #0087ff; text-decoration-color: #0087ff\">Dense</span>)             │ (<span style=\"color: #00d7ff; text-decoration-color: #00d7ff\">None</span>, <span style=\"color: #00af00; text-decoration-color: #00af00\">1</span>)              │            <span style=\"color: #00af00; text-decoration-color: #00af00\">11</span> │\n",
       "└─────────────────────────────────┴────────────────────────┴───────────────┘\n",
       "</pre>\n"
      ],
      "text/plain": [
       "┏━━━━━━━━━━━━━━━━━━━━━━━━━━━━━━━━━┳━━━━━━━━━━━━━━━━━━━━━━━━┳━━━━━━━━━━━━━━━┓\n",
       "┃\u001b[1m \u001b[0m\u001b[1mLayer (type)                   \u001b[0m\u001b[1m \u001b[0m┃\u001b[1m \u001b[0m\u001b[1mOutput Shape          \u001b[0m\u001b[1m \u001b[0m┃\u001b[1m \u001b[0m\u001b[1m      Param #\u001b[0m\u001b[1m \u001b[0m┃\n",
       "┡━━━━━━━━━━━━━━━━━━━━━━━━━━━━━━━━━╇━━━━━━━━━━━━━━━━━━━━━━━━╇━━━━━━━━━━━━━━━┩\n",
       "│ state_action_pair (\u001b[38;5;33mInputLayer\u001b[0m)  │ (\u001b[38;5;45mNone\u001b[0m, \u001b[38;5;34m2\u001b[0m)              │             \u001b[38;5;34m0\u001b[0m │\n",
       "├─────────────────────────────────┼────────────────────────┼───────────────┤\n",
       "│ dense_1 (\u001b[38;5;33mDense\u001b[0m)                 │ (\u001b[38;5;45mNone\u001b[0m, \u001b[38;5;34m10\u001b[0m)             │            \u001b[38;5;34m30\u001b[0m │\n",
       "├─────────────────────────────────┼────────────────────────┼───────────────┤\n",
       "│ dense_2 (\u001b[38;5;33mDense\u001b[0m)                 │ (\u001b[38;5;45mNone\u001b[0m, \u001b[38;5;34m10\u001b[0m)             │           \u001b[38;5;34m110\u001b[0m │\n",
       "├─────────────────────────────────┼────────────────────────┼───────────────┤\n",
       "│ predictions (\u001b[38;5;33mDense\u001b[0m)             │ (\u001b[38;5;45mNone\u001b[0m, \u001b[38;5;34m1\u001b[0m)              │            \u001b[38;5;34m11\u001b[0m │\n",
       "└─────────────────────────────────┴────────────────────────┴───────────────┘\n"
      ]
     },
     "metadata": {},
     "output_type": "display_data"
    },
    {
     "data": {
      "text/html": [
       "<pre style=\"white-space:pre;overflow-x:auto;line-height:normal;font-family:Menlo,'DejaVu Sans Mono',consolas,'Courier New',monospace\"><span style=\"font-weight: bold\"> Total params: </span><span style=\"color: #00af00; text-decoration-color: #00af00\">151</span> (604.00 B)\n",
       "</pre>\n"
      ],
      "text/plain": [
       "\u001b[1m Total params: \u001b[0m\u001b[38;5;34m151\u001b[0m (604.00 B)\n"
      ]
     },
     "metadata": {},
     "output_type": "display_data"
    },
    {
     "data": {
      "text/html": [
       "<pre style=\"white-space:pre;overflow-x:auto;line-height:normal;font-family:Menlo,'DejaVu Sans Mono',consolas,'Courier New',monospace\"><span style=\"font-weight: bold\"> Trainable params: </span><span style=\"color: #00af00; text-decoration-color: #00af00\">151</span> (604.00 B)\n",
       "</pre>\n"
      ],
      "text/plain": [
       "\u001b[1m Trainable params: \u001b[0m\u001b[38;5;34m151\u001b[0m (604.00 B)\n"
      ]
     },
     "metadata": {},
     "output_type": "display_data"
    },
    {
     "data": {
      "text/html": [
       "<pre style=\"white-space:pre;overflow-x:auto;line-height:normal;font-family:Menlo,'DejaVu Sans Mono',consolas,'Courier New',monospace\"><span style=\"font-weight: bold\"> Non-trainable params: </span><span style=\"color: #00af00; text-decoration-color: #00af00\">0</span> (0.00 B)\n",
       "</pre>\n"
      ],
      "text/plain": [
       "\u001b[1m Non-trainable params: \u001b[0m\u001b[38;5;34m0\u001b[0m (0.00 B)\n"
      ]
     },
     "metadata": {},
     "output_type": "display_data"
    }
   ],
   "source": [
    "# initialize the input (s,a) layer\n",
    "inputs = keras.Input(shape=(2,), name='state_action_pair')\n",
    "# add the first layer and connect it with the input layer\n",
    "x = keras.layers.Dense(10, activation='relu', name='dense_1')(inputs)\n",
    "# add the second layer and connect it with the first layer\n",
    "x1 = keras.layers.Dense(10, activation='relu', name='dense_2')(x)\n",
    "# add the output layer and connect it with the second layer\n",
    "outputs = keras.layers.Dense(1, name='predictions')(x1)\n",
    "# initialize the DNN model with the above layer architecture\n",
    "model1 = keras.Model(inputs=inputs, outputs=outputs)\n",
    "\n",
    "model1.summary()"
   ]
  },
  {
   "attachments": {},
   "cell_type": "markdown",
   "metadata": {},
   "source": [
    "### Train the network"
   ]
  },
  {
   "cell_type": "code",
   "execution_count": 204,
   "metadata": {},
   "outputs": [
    {
     "name": "stdout",
     "output_type": "stream",
     "text": [
      "Epoch 1/20\n",
      "\u001b[1m134/134\u001b[0m \u001b[32m━━━━━━━━━━━━━━━━━━━━\u001b[0m\u001b[37m\u001b[0m \u001b[1m1s\u001b[0m 1ms/step - loss: 15535.9863 - mean_squared_error: 15535.9863 - val_loss: 4374.4819 - val_mean_squared_error: 4374.4819\n",
      "Epoch 2/20\n",
      "\u001b[1m134/134\u001b[0m \u001b[32m━━━━━━━━━━━━━━━━━━━━\u001b[0m\u001b[37m\u001b[0m \u001b[1m0s\u001b[0m 1ms/step - loss: 2293.2505 - mean_squared_error: 2293.2505 - val_loss: 155.7341 - val_mean_squared_error: 155.7341\n",
      "Epoch 3/20\n",
      "\u001b[1m134/134\u001b[0m \u001b[32m━━━━━━━━━━━━━━━━━━━━\u001b[0m\u001b[37m\u001b[0m \u001b[1m0s\u001b[0m 924us/step - loss: 132.1232 - mean_squared_error: 132.1232 - val_loss: 37.3226 - val_mean_squared_error: 37.3226\n",
      "Epoch 4/20\n",
      "\u001b[1m134/134\u001b[0m \u001b[32m━━━━━━━━━━━━━━━━━━━━\u001b[0m\u001b[37m\u001b[0m \u001b[1m0s\u001b[0m 838us/step - loss: 55.4271 - mean_squared_error: 55.4271 - val_loss: 14.8447 - val_mean_squared_error: 14.8447\n",
      "Epoch 5/20\n",
      "\u001b[1m134/134\u001b[0m \u001b[32m━━━━━━━━━━━━━━━━━━━━\u001b[0m\u001b[37m\u001b[0m \u001b[1m0s\u001b[0m 969us/step - loss: 14.6378 - mean_squared_error: 14.6378 - val_loss: 2.0508 - val_mean_squared_error: 2.0508\n",
      "Epoch 6/20\n",
      "\u001b[1m134/134\u001b[0m \u001b[32m━━━━━━━━━━━━━━━━━━━━\u001b[0m\u001b[37m\u001b[0m \u001b[1m0s\u001b[0m 672us/step - loss: 2.5539 - mean_squared_error: 2.5539 - val_loss: 1.4434 - val_mean_squared_error: 1.4434\n",
      "Epoch 7/20\n",
      "\u001b[1m134/134\u001b[0m \u001b[32m━━━━━━━━━━━━━━━━━━━━\u001b[0m\u001b[37m\u001b[0m \u001b[1m0s\u001b[0m 709us/step - loss: 2.5253 - mean_squared_error: 2.5253 - val_loss: 1.3751 - val_mean_squared_error: 1.3751\n",
      "Epoch 8/20\n",
      "\u001b[1m134/134\u001b[0m \u001b[32m━━━━━━━━━━━━━━━━━━━━\u001b[0m\u001b[37m\u001b[0m \u001b[1m0s\u001b[0m 745us/step - loss: 2.5516 - mean_squared_error: 2.5516 - val_loss: 2.2701 - val_mean_squared_error: 2.2701\n",
      "Epoch 9/20\n",
      "\u001b[1m134/134\u001b[0m \u001b[32m━━━━━━━━━━━━━━━━━━━━\u001b[0m\u001b[37m\u001b[0m \u001b[1m0s\u001b[0m 716us/step - loss: 2.3997 - mean_squared_error: 2.3997 - val_loss: 1.6638 - val_mean_squared_error: 1.6638\n",
      "Epoch 10/20\n",
      "\u001b[1m134/134\u001b[0m \u001b[32m━━━━━━━━━━━━━━━━━━━━\u001b[0m\u001b[37m\u001b[0m \u001b[1m0s\u001b[0m 777us/step - loss: 2.4170 - mean_squared_error: 2.4170 - val_loss: 1.7299 - val_mean_squared_error: 1.7299\n",
      "Epoch 11/20\n",
      "\u001b[1m134/134\u001b[0m \u001b[32m━━━━━━━━━━━━━━━━━━━━\u001b[0m\u001b[37m\u001b[0m \u001b[1m0s\u001b[0m 744us/step - loss: 2.2326 - mean_squared_error: 2.2326 - val_loss: 1.3504 - val_mean_squared_error: 1.3504\n",
      "Epoch 12/20\n",
      "\u001b[1m134/134\u001b[0m \u001b[32m━━━━━━━━━━━━━━━━━━━━\u001b[0m\u001b[37m\u001b[0m \u001b[1m0s\u001b[0m 655us/step - loss: 2.3051 - mean_squared_error: 2.3051 - val_loss: 1.2857 - val_mean_squared_error: 1.2857\n",
      "Epoch 13/20\n",
      "\u001b[1m134/134\u001b[0m \u001b[32m━━━━━━━━━━━━━━━━━━━━\u001b[0m\u001b[37m\u001b[0m \u001b[1m0s\u001b[0m 655us/step - loss: 2.1562 - mean_squared_error: 2.1562 - val_loss: 1.1985 - val_mean_squared_error: 1.1985\n",
      "Epoch 14/20\n",
      "\u001b[1m134/134\u001b[0m \u001b[32m━━━━━━━━━━━━━━━━━━━━\u001b[0m\u001b[37m\u001b[0m \u001b[1m0s\u001b[0m 659us/step - loss: 2.1621 - mean_squared_error: 2.1621 - val_loss: 1.5969 - val_mean_squared_error: 1.5969\n",
      "Epoch 15/20\n",
      "\u001b[1m134/134\u001b[0m \u001b[32m━━━━━━━━━━━━━━━━━━━━\u001b[0m\u001b[37m\u001b[0m \u001b[1m0s\u001b[0m 1ms/step - loss: 2.1030 - mean_squared_error: 2.1030 - val_loss: 1.0852 - val_mean_squared_error: 1.0852\n",
      "Epoch 16/20\n",
      "\u001b[1m134/134\u001b[0m \u001b[32m━━━━━━━━━━━━━━━━━━━━\u001b[0m\u001b[37m\u001b[0m \u001b[1m0s\u001b[0m 1ms/step - loss: 2.1904 - mean_squared_error: 2.1904 - val_loss: 1.7668 - val_mean_squared_error: 1.7668\n",
      "Epoch 17/20\n",
      "\u001b[1m134/134\u001b[0m \u001b[32m━━━━━━━━━━━━━━━━━━━━\u001b[0m\u001b[37m\u001b[0m \u001b[1m0s\u001b[0m 1ms/step - loss: 2.1614 - mean_squared_error: 2.1614 - val_loss: 3.1308 - val_mean_squared_error: 3.1308\n",
      "Epoch 18/20\n",
      "\u001b[1m134/134\u001b[0m \u001b[32m━━━━━━━━━━━━━━━━━━━━\u001b[0m\u001b[37m\u001b[0m \u001b[1m0s\u001b[0m 779us/step - loss: 2.0498 - mean_squared_error: 2.0498 - val_loss: 1.0231 - val_mean_squared_error: 1.0231\n",
      "Epoch 19/20\n",
      "\u001b[1m134/134\u001b[0m \u001b[32m━━━━━━━━━━━━━━━━━━━━\u001b[0m\u001b[37m\u001b[0m \u001b[1m0s\u001b[0m 819us/step - loss: 1.9357 - mean_squared_error: 1.9357 - val_loss: 1.7887 - val_mean_squared_error: 1.7887\n",
      "Epoch 20/20\n",
      "\u001b[1m134/134\u001b[0m \u001b[32m━━━━━━━━━━━━━━━━━━━━\u001b[0m\u001b[37m\u001b[0m \u001b[1m0s\u001b[0m 774us/step - loss: 2.1433 - mean_squared_error: 2.1433 - val_loss: 2.0762 - val_mean_squared_error: 2.0762\n"
     ]
    },
    {
     "data": {
      "text/plain": [
       "{'loss': [11629.4921875,\n",
       "  1215.6107177734375,\n",
       "  105.11119842529297,\n",
       "  44.67398452758789,\n",
       "  8.955161094665527,\n",
       "  2.632638931274414,\n",
       "  2.5200552940368652,\n",
       "  2.5151498317718506,\n",
       "  2.408536434173584,\n",
       "  2.360459566116333,\n",
       "  2.283921480178833,\n",
       "  2.2598557472229004,\n",
       "  2.195401191711426,\n",
       "  2.2107813358306885,\n",
       "  2.1416144371032715,\n",
       "  2.1325459480285645,\n",
       "  2.103084087371826,\n",
       "  2.0963804721832275,\n",
       "  2.0605502128601074,\n",
       "  2.0730507373809814],\n",
       " 'mean_squared_error': [11629.4921875,\n",
       "  1215.6107177734375,\n",
       "  105.11119842529297,\n",
       "  44.67398452758789,\n",
       "  8.955161094665527,\n",
       "  2.632638931274414,\n",
       "  2.5200552940368652,\n",
       "  2.5151498317718506,\n",
       "  2.408536434173584,\n",
       "  2.360459566116333,\n",
       "  2.283921480178833,\n",
       "  2.2598557472229004,\n",
       "  2.195401191711426,\n",
       "  2.2107813358306885,\n",
       "  2.1416144371032715,\n",
       "  2.1325459480285645,\n",
       "  2.103084087371826,\n",
       "  2.0963804721832275,\n",
       "  2.0605502128601074,\n",
       "  2.0730507373809814],\n",
       " 'val_loss': [4374.48193359375,\n",
       "  155.7340850830078,\n",
       "  37.322574615478516,\n",
       "  14.844743728637695,\n",
       "  2.0508484840393066,\n",
       "  1.4434345960617065,\n",
       "  1.3751240968704224,\n",
       "  2.270115375518799,\n",
       "  1.6638126373291016,\n",
       "  1.7298909425735474,\n",
       "  1.3504213094711304,\n",
       "  1.2856601476669312,\n",
       "  1.1985304355621338,\n",
       "  1.596864104270935,\n",
       "  1.0852015018463135,\n",
       "  1.766775369644165,\n",
       "  3.130791425704956,\n",
       "  1.0230809450149536,\n",
       "  1.7886550426483154,\n",
       "  2.0762343406677246],\n",
       " 'val_mean_squared_error': [4374.48193359375,\n",
       "  155.7340850830078,\n",
       "  37.322574615478516,\n",
       "  14.844743728637695,\n",
       "  2.0508484840393066,\n",
       "  1.4434345960617065,\n",
       "  1.3751240968704224,\n",
       "  2.270115375518799,\n",
       "  1.6638126373291016,\n",
       "  1.7298909425735474,\n",
       "  1.3504211902618408,\n",
       "  1.2856601476669312,\n",
       "  1.1985304355621338,\n",
       "  1.596864104270935,\n",
       "  1.0852015018463135,\n",
       "  1.766775369644165,\n",
       "  3.130791425704956,\n",
       "  1.0230809450149536,\n",
       "  1.7886550426483154,\n",
       "  2.0762343406677246]}"
      ]
     },
     "execution_count": 204,
     "metadata": {},
     "output_type": "execute_result"
    }
   ],
   "source": [
    "mdl = model\n",
    "# compile the model\n",
    "mdl.compile(\n",
    "    optimizer=keras.optimizers.RMSprop(),\n",
    "    loss = keras.losses.MeanSquaredError(reduction=\"sum_over_batch_size\", name=\"mean_squared_error\"),\n",
    "    metrics = [keras.metrics.MeanSquaredError(name=\"mean_squared_error\")]\n",
    ")\n",
    "\n",
    "# train the model\n",
    "history = mdl.fit(\n",
    "    inputs_train,\n",
    "    outputs_train,\n",
    "    batch_size=30,\n",
    "    epochs=20,\n",
    "    validation_data = (inputs_val, outputs_val))\n",
    "\n",
    "history.history\n"
   ]
  },
  {
   "attachments": {},
   "cell_type": "markdown",
   "metadata": {},
   "source": [
    "### Evaluate"
   ]
  },
  {
   "cell_type": "code",
   "execution_count": 205,
   "metadata": {},
   "outputs": [
    {
     "name": "stdout",
     "output_type": "stream",
     "text": [
      "\u001b[1m8/8\u001b[0m \u001b[32m━━━━━━━━━━━━━━━━━━━━\u001b[0m\u001b[37m\u001b[0m \u001b[1m0s\u001b[0m 658us/step - loss: 1.9376 - mean_squared_error: 1.9376\n",
      "test loss, test acc: [2.1319096088409424, 2.1319096088409424]\n",
      "Generate predictions for 3 samples\n",
      "\u001b[1m1/1\u001b[0m \u001b[32m━━━━━━━━━━━━━━━━━━━━\u001b[0m\u001b[37m\u001b[0m \u001b[1m0s\u001b[0m 33ms/step\n",
      "predictions shape: (3, 1)\n",
      "Inputs_test =  [[ 29  20]\n",
      " [283  20]\n",
      " [ 49  20]]\n",
      "predictions =  [[ 36.32327 ]\n",
      " [284.37262 ]\n",
      " [ 53.280544]]\n"
     ]
    }
   ],
   "source": [
    "results = mdl.evaluate(inputs_test, outputs_test, batch_size=128)\n",
    "print(\"test loss, test acc:\", results)\n",
    "\n",
    "# Generate predictions (probabilities -- the output of the last layer)\n",
    "# on new data using `predict`\n",
    "print(\"Generate predictions for 3 samples\")\n",
    "predictions = mdl.predict(inputs_test[:3])\n",
    "print(\"predictions shape:\", predictions.shape)\n",
    "print(\"Inputs_test = \", inputs_test[:3])\n",
    "print(\"predictions = \", predictions)"
   ]
  }
 ],
 "metadata": {
  "kernelspec": {
   "display_name": "Python 3",
   "language": "python",
   "name": "python3"
  },
  "language_info": {
   "codemirror_mode": {
    "name": "ipython",
    "version": 3
   },
   "file_extension": ".py",
   "mimetype": "text/x-python",
   "name": "python",
   "nbconvert_exporter": "python",
   "pygments_lexer": "ipython3",
   "version": "3.9.6"
  },
  "orig_nbformat": 4
 },
 "nbformat": 4,
 "nbformat_minor": 2
}
